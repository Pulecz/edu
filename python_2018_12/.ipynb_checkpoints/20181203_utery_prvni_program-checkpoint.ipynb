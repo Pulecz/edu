{
 "cells": [
  {
   "cell_type": "markdown",
   "metadata": {},
   "source": [
    "zápisky dávám dohromady"
   ]
  },
  {
   "cell_type": "markdown",
   "metadata": {},
   "source": [
    "zhruba vysvětlění programu:"
   ]
  },
  {
   "cell_type": "code",
   "execution_count": 3,
   "metadata": {},
   "outputs": [
    {
     "name": "stdout",
     "output_type": "stream",
     "text": [
      "cisla = [1,2,3,4,4,1,2,7]\r\n",
      "\r\n",
      "\r\n",
      "def kolik_cisla_mezi_cisly(hledane, cisla, verbose=True):\r\n",
      "    \"\"\"\r\n",
      "    spocita 'hledane' cislo v seznamu 'cisla'\r\n",
      "    a vrati kolik\r\n",
      "    \"\"\"\r\n",
      "    kolik = 0\r\n",
      "    for cislo in cisla:\r\n",
      "        if cislo == hledane:\r\n",
      "            kolik += 1\r\n",
      "    if verbose:\r\n",
      "        print(\"Cislo {0} je v seznamu cisel {1}krat.\".format(hledane, kolik))\r\n",
      "    return kolik\r\n",
      "\r\n",
      "\r\n",
      "def postav_slovnik(cisla):\r\n",
      "    vysledek = {}\r\n",
      "    for cislo in cisla:\r\n",
      "        vysledek[cislo] = kolik_cisla_mezi_cisly(cislo, cisla, verbose=False)\r\n",
      "    return vysledek\r\n",
      "\r\n",
      "\r\n",
      "def test_funkce():\r\n",
      "    assert kolik_cisla_mezi_cisly(1, cisla) == 2\r\n",
      "    assert kolik_cisla_mezi_cisly(20, cisla) == 0\r\n",
      "    assert kolik_cisla_mezi_cisly(3, cisla) == 1\r\n",
      "\r\n",
      "\r\n",
      "if __name__ == '__main__':\r\n",
      "    test_funkce()\r\n",
      "    print(postav_slovnik(cisla))\r\n"
     ]
    }
   ],
   "source": [
    "cat pocitadlo.py"
   ]
  },
  {
   "cell_type": "code",
   "execution_count": 1,
   "metadata": {},
   "outputs": [
    {
     "name": "stdout",
     "output_type": "stream",
     "text": [
      "Cislo 1 je v seznamu cisel 2krat.\n",
      "Cislo 20 je v seznamu cisel 0krat.\n",
      "Cislo 3 je v seznamu cisel 1krat.\n",
      "{1: 2, 2: 2, 3: 1, 4: 2, 7: 1}\n"
     ]
    }
   ],
   "source": [
    "%run pocitadlo.py"
   ]
  },
  {
   "cell_type": "code",
   "execution_count": null,
   "metadata": {},
   "outputs": [],
   "source": []
  }
 ],
 "metadata": {
  "kernelspec": {
   "display_name": "Python 3",
   "language": "python",
   "name": "python3"
  },
  "language_info": {
   "codemirror_mode": {
    "name": "ipython",
    "version": 3
   },
   "file_extension": ".py",
   "mimetype": "text/x-python",
   "name": "python",
   "nbconvert_exporter": "python",
   "pygments_lexer": "ipython3",
   "version": "3.7.1"
  }
 },
 "nbformat": 4,
 "nbformat_minor": 2
}
